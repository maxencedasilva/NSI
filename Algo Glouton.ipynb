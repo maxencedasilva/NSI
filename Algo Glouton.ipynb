{
 "cells": [
  {
   "cell_type": "markdown",
   "source": [
    "# Exercice 3"
   ],
   "metadata": {}
  },
  {
   "cell_type": "code",
   "execution_count": null,
   "source": [
    "def glouton(S,L):\n",
    "    if type(S)!=int:\n",
    "        print(\"La somme à rendre doit être entière.\")\n",
    "        break\n",
    "    if type(L)!=list:\n",
    "        print(\"Le système monétaire doit être entré sous forme de liste.\")\n",
    "        break\n",
    "    L=L.sort()\n",
    "    L=L.reverse()\n",
    "    monnaie=list()\n",
    "    i=0\n",
    "    while S>0:\n",
    "        if L[i]>S:\n",
    "            i+=1\n",
    "        elif S<min(L):\n",
    "            return(monnaie,S)\n",
    "            break\n",
    "        else:\n",
    "            i+=1\n",
    "            monnaie+=[L[i]]\n",
    "            S-L[i]"
   ],
   "outputs": [],
   "metadata": {}
  }
 ],
 "metadata": {
  "orig_nbformat": 4,
  "language_info": {
   "name": "python"
  }
 },
 "nbformat": 4,
 "nbformat_minor": 2
}