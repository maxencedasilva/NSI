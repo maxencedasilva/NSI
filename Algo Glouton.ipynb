{
 "cells": [
  {
   "cell_type": "markdown",
   "source": [
    "# Exercice 3"
   ],
   "metadata": {}
  },
  {
   "cell_type": "code",
   "execution_count": 6,
   "source": [
    "def glouton(S,L): # On suppose que S est un entier et que L est une liste\n",
    "    L.sort()\n",
    "    L.reverse()\n",
    "    monnaie=list()\n",
    "    i=0\n",
    "    while S>0:\n",
    "        if L[i]>S:\n",
    "            i+=1\n",
    "        else:\n",
    "            monnaie+=[L[i]]\n",
    "            S-=L[i]\n",
    "            i=0\n",
    "    return(monnaie)\n",
    "\n",
    "print(glouton(74,[500,200,100,50,20,10,5,2,1]))\n",
    "\n",
    "#Un exemple non optimal serait le système monétaire [1000,500,200,10,1] avec une somme à\n",
    "#rendre de 107. L'algorithme rendrait 10 pièces de 10 et 7 pièces de 1."
   ],
   "outputs": [
    {
     "output_type": "stream",
     "name": "stdout",
     "text": [
      "[50, 20, 2, 2]\n"
     ]
    }
   ],
   "metadata": {}
  }
 ],
 "metadata": {
  "orig_nbformat": 4,
  "language_info": {
   "name": "python",
   "version": "3.8.3",
   "mimetype": "text/x-python",
   "codemirror_mode": {
    "name": "ipython",
    "version": 3
   },
   "pygments_lexer": "ipython3",
   "nbconvert_exporter": "python",
   "file_extension": ".py"
  },
  "kernelspec": {
   "name": "python3",
   "display_name": "Python 3.8.3 64-bit"
  },
  "interpreter": {
   "hash": "aee8b7b246df8f9039afb4144a1f6fd8d2ca17a180786b69acc140d282b71a49"
  }
 },
 "nbformat": 4,
 "nbformat_minor": 2
}