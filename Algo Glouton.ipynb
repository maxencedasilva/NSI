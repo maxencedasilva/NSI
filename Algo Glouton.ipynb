{
 "cells": [
  {
   "cell_type": "markdown",
   "metadata": {},
   "source": [
    "# Exercice 3"
   ]
  },
  {
   "cell_type": "code",
   "execution_count": 1,
   "metadata": {},
   "outputs": [
    {
     "name": "stdout",
     "output_type": "stream",
     "text": [
      "[200, 50, 10, 5, 2]\n"
     ]
    }
   ],
   "source": [
    "def glouton(S,L): # On suppose que S est un entier et que L est une liste\n",
    "    L.sort()\n",
    "    L.reverse()\n",
    "    monnaie=list()\n",
    "    i=0\n",
    "    while S>0:\n",
    "        if L[i]>S:\n",
    "            i+=1\n",
    "        else:\n",
    "            monnaie+=[L[i]]\n",
    "            S-=L[i]\n",
    "            i=0\n",
    "    return(monnaie)\n",
    "\n",
    "print(glouton(267,[500,200,100,50,20,10,5,2,1]))\n",
    "\n",
    "# Un exemple non optimal serait le système monétaire [1000,500,200,10,1] avec une somme à\n",
    "# rendre de 107. L'algorithme rendrait 10 pièces de 10 et 7 pièces de 1."
   ]
  },
  {
   "cell_type": "markdown",
   "metadata": {},
   "source": [
    "# Exercice 4"
   ]
  },
  {
   "cell_type": "code",
   "execution_count": 3,
   "metadata": {},
   "outputs": [
    {
     "name": "stdout",
     "output_type": "stream",
     "text": [
      "[7, 7, 7, 7, 7, 7, 1]\n"
     ]
    }
   ],
   "source": [
    "def glouton(S,L): # On suppose que S est un entier et que L est une liste\n",
    "    L.sort()\n",
    "    L.reverse()\n",
    "    monnaie=list()\n",
    "    i=0\n",
    "    while S>0:\n",
    "        if L[i]>S:\n",
    "            i+=1\n",
    "        else:\n",
    "            monnaie+=[L[i]]\n",
    "            S-=L[i]\n",
    "            i=0\n",
    "    return(monnaie)\n",
    "\n",
    "print(glouton(43,[500,200,100,50,7,5,2,1]))\n",
    "\n",
    "# Ici, 43 rendrait donc 6 pièces de 7 et une pièce de 1."
   ]
  },
  {
   "cell_type": "code",
   "execution_count": null,
   "metadata": {},
   "outputs": [],
   "source": []
  }
 ],
 "metadata": {
  "interpreter": {
   "hash": "aee8b7b246df8f9039afb4144a1f6fd8d2ca17a180786b69acc140d282b71a49"
  },
  "kernelspec": {
   "display_name": "Python 3.8.3 64-bit",
   "name": "python3"
  },
  "language_info": {
   "codemirror_mode": {
    "name": "ipython",
    "version": 3
   },
   "file_extension": ".py",
   "mimetype": "text/x-python",
   "name": "python",
   "nbconvert_exporter": "python",
   "pygments_lexer": "ipython3",
   "version": "3.8.3"
  },
  "orig_nbformat": 4
 },
 "nbformat": 4,
 "nbformat_minor": 2
}
