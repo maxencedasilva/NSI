{
 "cells": [
  {
   "cell_type": "markdown",
   "metadata": {},
   "source": [
    "# Code ISBN"
   ]
  },
  {
   "cell_type": "code",
   "execution_count": null,
   "metadata": {},
   "outputs": [],
   "source": [
    "def saisie_valide():\n",
    "    nb='0123456789'\n",
    "    cd_isbn=str(input(\"Saisir un code ISBN: \"))\n",
    "    try:\n",
    "        assert len(cd_isbn)==13\n",
    "        for k in cd_isbn:\n",
    "            assert k in nb\n",
    "    except:\n",
    "        print(\"Le code saisie n'est pas valide.\")\n",
    "    else:\n",
    "        return cd_isbn\n",
    "\n",
    "def isbn_valide(x):\n",
    "    code=str(x)\n",
    "    s=0\n",
    "    for n in code:\n",
    "        m=int(n)\n",
    "        if m%2==0:\n",
    "            s+=3*m\n",
    "        else:\n",
    "            s+=m\n",
    "    key=0\n",
    "    if s%10!=0:\n",
    "        key=10-s%10\n",
    "    if str(key)==code[12]:\n",
    "        return True\n",
    "    else:\n",
    "        return False\n",
    "\n",
    "a=saisie_valide()\n",
    "if type(a)==str:\n",
    "    if isbn_valide(a):\n",
    "        print(\"Votre code ISBN et sa clé de contrôle sont valides.\")\n",
    "    else:\n",
    "        print(\"La clé de contrôle du code ISBN n'est pas valide.\")"
   ]
  }
 ],
 "metadata": {
  "interpreter": {
   "hash": "aee8b7b246df8f9039afb4144a1f6fd8d2ca17a180786b69acc140d282b71a49"
  },
  "kernelspec": {
   "display_name": "Python 3.8.3 64-bit",
   "name": "python3"
  },
  "language_info": {
   "codemirror_mode": {
    "name": "ipython",
    "version": 3
   },
   "file_extension": ".py",
   "mimetype": "text/x-python",
   "name": "python",
   "nbconvert_exporter": "python",
   "pygments_lexer": "ipython3",
   "version": "3.8.3"
  },
  "orig_nbformat": 4
 },
 "nbformat": 4,
 "nbformat_minor": 2
}
