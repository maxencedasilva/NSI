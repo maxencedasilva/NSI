{
 "cells": [
  {
   "cell_type": "markdown",
   "metadata": {},
   "source": [
    "# Code ISBN"
   ]
  },
  {
   "cell_type": "code",
   "execution_count": null,
   "metadata": {},
   "outputs": [],
   "source": [
    "def saisie_valide():\n",
    "    nb='0123456789'\n",
    "    code=str(input(\"Saisir un code ISBN: \"))\n",
    "    if len(code)!=13:\n",
    "        print(\"Vous n'avez pas saisie un code de 13 chiffres.\")\n",
    "        return\n",
    "    for k in code:\n",
    "        if k not in nb:\n",
    "            print(\"Le code saisie comporte un caractère invalide.\")\n",
    "            return\n",
    "    return code\n",
    "        \n"
   ]
  }
 ],
 "metadata": {
  "language_info": {
   "name": "python"
  },
  "orig_nbformat": 4
 },
 "nbformat": 4,
 "nbformat_minor": 2
}
