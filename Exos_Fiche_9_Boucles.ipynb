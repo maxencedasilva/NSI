{
 "cells": [
  {
   "cell_type": "markdown",
   "metadata": {},
   "source": [
    "## Exemple 1"
   ]
  },
  {
   "cell_type": "code",
   "execution_count": null,
   "metadata": {},
   "outputs": [],
   "source": [
    "for compteur in range(10):\n",
    "    print('Hello',compteur)"
   ]
  },
  {
   "cell_type": "markdown",
   "metadata": {},
   "source": [
    "## Exemple 2"
   ]
  },
  {
   "cell_type": "code",
   "execution_count": null,
   "metadata": {},
   "outputs": [],
   "source": [
    "for n in range(0,100,2):\n",
    "    print(n)"
   ]
  },
  {
   "cell_type": "markdown",
   "metadata": {},
   "source": [
    "## Exemple 3"
   ]
  },
  {
   "cell_type": "code",
   "execution_count": null,
   "metadata": {},
   "outputs": [],
   "source": [
    "n=int(input('Saisir un entier positif : '))\n",
    "fin=int(input('Saisir le rang de fin : '))\n",
    "print('Table de multiplication de',n)\n",
    "for i in range(1,fin+1):\n",
    "    print(i,'x',n,'=',i*n)"
   ]
  },
  {
   "cell_type": "markdown",
   "metadata": {},
   "source": [
    "## Exemple 4"
   ]
  },
  {
   "cell_type": "code",
   "execution_count": null,
   "metadata": {},
   "outputs": [],
   "source": [
    "from random import *\n",
    "print('6 tirages de dés :')\n",
    "for i in range(1,7):\n",
    "    print('Tirage',i,':',randint(1,6))"
   ]
  },
  {
   "cell_type": "markdown",
   "metadata": {},
   "source": [
    "## Exemple 5"
   ]
  },
  {
   "cell_type": "code",
   "execution_count": null,
   "metadata": {},
   "outputs": [],
   "source": [
    "compteur=1\n",
    "while compteur<=10:\n",
    "    print(compteur)\n",
    "    compteur=compteur+1"
   ]
  },
  {
   "cell_type": "markdown",
   "metadata": {},
   "source": [
    "## Exemple 6"
   ]
  },
  {
   "cell_type": "code",
   "execution_count": null,
   "metadata": {},
   "outputs": [],
   "source": [
    "n=int(input('Saisir l\\'année de naissance : '))\n",
    "while n<1900 or n>2021:\n",
    "    print('Erreur de saisie')\n",
    "    n=int(input(\"Ressaisir l'année : \"))\n",
    "print('Vous avez %s ans' %(2021-n))"
   ]
  },
  {
   "cell_type": "markdown",
   "metadata": {},
   "source": [
    "## Exemple 7"
   ]
  },
  {
   "cell_type": "code",
   "execution_count": null,
   "metadata": {},
   "outputs": [],
   "source": [
    "n=int(input('Saisir un entier positif : '))\n",
    "print('Table de multiplication de ',n)\n",
    "i=1\n",
    "while i<=12:\n",
    "    print(i,'x',n,'=',i*n)"
   ]
  },
  {
   "cell_type": "markdown",
   "metadata": {},
   "source": [
    "## Exemple 8"
   ]
  },
  {
   "cell_type": "code",
   "execution_count": 11,
   "metadata": {},
   "outputs": [
    {
     "name": "stdout",
     "output_type": "stream",
     "text": [
      "2 est un nombre premier\n",
      "3 est un nombre premier\n",
      "4 = 2 x 2\n",
      "5 est un nombre premier\n",
      "6 = 2 x 3\n",
      "7 est un nombre premier\n",
      "8 = 2 x 4\n",
      "9 = 3 x 3\n",
      "10 = 2 x 5\n",
      "11 est un nombre premier\n",
      "12 = 2 x 6\n",
      "13 est un nombre premier\n",
      "14 = 2 x 7\n",
      "15 = 3 x 5\n",
      "16 = 2 x 8\n",
      "17 est un nombre premier\n",
      "18 = 2 x 9\n",
      "19 est un nombre premier\n"
     ]
    }
   ],
   "source": [
    "for n in range(2,20):\n",
    "    for i in range(2,n):\n",
    "        if n % i==0:\n",
    "            print(n,'=',i,'x',int(n/i))\n",
    "            break\n",
    "    else:\n",
    "        print(n,'est un nombre premier')"
   ]
  },
  {
   "cell_type": "markdown",
   "metadata": {},
   "source": [
    "## Exemple 9"
   ]
  },
  {
   "cell_type": "code",
   "execution_count": null,
   "metadata": {},
   "outputs": [],
   "source": [
    "n=int(input('Saisir un nombre entier n : '))\n",
    "m=n//2\n",
    "while m >= 2:\n",
    "    if n%m==0:\n",
    "        print(n,'est divisible par',m)\n",
    "        break\n",
    "    else:\n",
    "        m=m-1\n",
    "else:\n",
    "    print(n,'est un nombre premier')"
   ]
  },
  {
   "cell_type": "markdown",
   "metadata": {},
   "source": [
    "## Exemple 10"
   ]
  },
  {
   "cell_type": "code",
   "execution_count": 14,
   "metadata": {},
   "outputs": [
    {
     "name": "stdin",
     "output_type": "stream",
     "text": [
      "Saisir un entier positif:  -1\n",
      "Saisir un entier positif:  2\n"
     ]
    },
    {
     "name": "stdout",
     "output_type": "stream",
     "text": [
      "2 est une saisie correcte\n"
     ]
    }
   ],
   "source": [
    "while True:\n",
    "    try:\n",
    "        a=int(input('Saisir un entier positif: '))\n",
    "        assert a>=0\n",
    "    except:\n",
    "        continue\n",
    "    else:\n",
    "        break\n",
    "print(a,'est une saisie correcte')"
   ]
  },
  {
   "cell_type": "code",
   "execution_count": null,
   "metadata": {},
   "outputs": [],
   "source": []
  }
 ],
 "metadata": {
  "kernelspec": {
   "display_name": "Python 3.8.3 64-bit",
   "language": "python",
   "name": "python38364bit58a07b88a5ba4caf9eeeb1f1619a3aa6"
  },
  "language_info": {
   "codemirror_mode": {
    "name": "ipython",
    "version": 3
   },
   "file_extension": ".py",
   "mimetype": "text/x-python",
   "name": "python",
   "nbconvert_exporter": "python",
   "pygments_lexer": "ipython3",
   "version": "3.8.3"
  }
 },
 "nbformat": 4,
 "nbformat_minor": 4
}
