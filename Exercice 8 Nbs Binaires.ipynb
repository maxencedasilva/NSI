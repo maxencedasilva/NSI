{
 "cells": [
  {
   "cell_type": "markdown",
   "source": [
    "# Question A"
   ],
   "metadata": {}
  },
  {
   "cell_type": "code",
   "execution_count": null,
   "source": [
    "def saisie():\n",
    "    saisie_correcte = False\n",
    "    while not(saisie_correcte):\n",
    "        try:\n",
    "            saisie=int(input('Saisir un nombre binaire: ')) \n",
    "            assert [i==0 or i==1 for i in saisie]\n",
    "        except:\n",
    "            print('Mauvaise saisie') \n",
    "        else:\n",
    "            saisie_correcte=True\n",
    "    return(str(saisie))\n",
    "\n",
    "saisie()"
   ],
   "outputs": [],
   "metadata": {}
  },
  {
   "cell_type": "code",
   "execution_count": null,
   "source": [],
   "outputs": [],
   "metadata": {}
  }
 ],
 "metadata": {
  "orig_nbformat": 4,
  "language_info": {
   "name": "python",
   "version": "3.8.3",
   "mimetype": "text/x-python",
   "codemirror_mode": {
    "name": "ipython",
    "version": 3
   },
   "pygments_lexer": "ipython3",
   "nbconvert_exporter": "python",
   "file_extension": ".py"
  },
  "kernelspec": {
   "name": "python3",
   "display_name": "Python 3.8.3 64-bit"
  },
  "interpreter": {
   "hash": "aee8b7b246df8f9039afb4144a1f6fd8d2ca17a180786b69acc140d282b71a49"
  }
 },
 "nbformat": 4,
 "nbformat_minor": 2
}